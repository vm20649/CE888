{
  "nbformat": 4,
  "nbformat_minor": 0,
  "metadata": {
    "colab": {
      "name": "Untitled1.ipynb",
      "provenance": [],
      "authorship_tag": "ABX9TyMBOQKBHE3VbWDFPmPQNehG",
      "include_colab_link": true
    },
    "kernelspec": {
      "name": "python3",
      "display_name": "Python 3"
    }
  },
  "cells": [
    {
      "cell_type": "markdown",
      "metadata": {
        "id": "view-in-github",
        "colab_type": "text"
      },
      "source": [
        "<a href=\"https://colab.research.google.com/github/vm20649/CE888/blob/main/Basic.ipynb\" target=\"_parent\"><img src=\"https://colab.research.google.com/assets/colab-badge.svg\" alt=\"Open In Colab\"/></a>"
      ]
    },
    {
      "cell_type": "code",
      "metadata": {
        "colab": {
          "base_uri": "https://localhost:8080/"
        },
        "id": "Tvy6s3paksZ7",
        "outputId": "d8d97af6-1c5e-43d4-f485-9ecb442f2747"
      },
      "source": [
        "cars=['BMW','AUDI','KIA']\r\n",
        "print(cars)"
      ],
      "execution_count": null,
      "outputs": [
        {
          "output_type": "stream",
          "text": [
            "['BMW', 'AUDI', 'KIA']\n"
          ],
          "name": "stdout"
        }
      ]
    },
    {
      "cell_type": "code",
      "metadata": {
        "colab": {
          "base_uri": "https://localhost:8080/",
          "height": 35
        },
        "id": "ukuhye0klcL0",
        "outputId": "d439fbc0-9473-4f6e-98e5-9235b66ce9b4"
      },
      "source": [
        "# get the first item in the list\r\n",
        "cars[0]"
      ],
      "execution_count": null,
      "outputs": [
        {
          "output_type": "execute_result",
          "data": {
            "application/vnd.google.colaboratory.intrinsic+json": {
              "type": "string"
            },
            "text/plain": [
              "'BMW'"
            ]
          },
          "metadata": {
            "tags": []
          },
          "execution_count": 3
        }
      ]
    },
    {
      "cell_type": "code",
      "metadata": {
        "colab": {
          "base_uri": "https://localhost:8080/",
          "height": 35
        },
        "id": "wIfF7yEXly65",
        "outputId": "a27f588c-512e-490d-caa0-7a05442c1c95"
      },
      "source": [
        "# get the last item in list\r\n",
        "cars[-1]"
      ],
      "execution_count": null,
      "outputs": [
        {
          "output_type": "execute_result",
          "data": {
            "application/vnd.google.colaboratory.intrinsic+json": {
              "type": "string"
            },
            "text/plain": [
              "'KIA'"
            ]
          },
          "metadata": {
            "tags": []
          },
          "execution_count": 6
        }
      ]
    },
    {
      "cell_type": "code",
      "metadata": {
        "colab": {
          "base_uri": "https://localhost:8080/"
        },
        "id": "_NcjeWjXmhKn",
        "outputId": "300eaa99-08cd-45f7-d85d-9f54553abed1"
      },
      "source": [
        "# loop in the list\r\n",
        "for car in cars:\r\n",
        "  print(car)"
      ],
      "execution_count": null,
      "outputs": [
        {
          "output_type": "stream",
          "text": [
            "BMW\n",
            "AUDI\n",
            "KIA\n"
          ],
          "name": "stdout"
        }
      ]
    },
    {
      "cell_type": "code",
      "metadata": {
        "colab": {
          "base_uri": "https://localhost:8080/"
        },
        "id": "LgSciyOAr9lT",
        "outputId": "b22dbcd5-046e-42ae-f8fc-8768ce6c4b4e"
      },
      "source": [
        "# adding items to the list\r\n",
        "bikes =[]\r\n",
        "print(bikes)"
      ],
      "execution_count": null,
      "outputs": [
        {
          "output_type": "stream",
          "text": [
            "[]\n"
          ],
          "name": "stdout"
        }
      ]
    },
    {
      "cell_type": "code",
      "metadata": {
        "colab": {
          "base_uri": "https://localhost:8080/"
        },
        "id": "FssVj2YxsRL8",
        "outputId": "bb6aa296-e32b-478c-8497-4d9d0c0658c9"
      },
      "source": [
        "bikes.append('Royal Endield')\r\n",
        "bikes.append('Honda')\r\n",
        "print(bikes)"
      ],
      "execution_count": null,
      "outputs": [
        {
          "output_type": "stream",
          "text": [
            "['Royal Endield', 'Honda']\n"
          ],
          "name": "stdout"
        }
      ]
    },
    {
      "cell_type": "code",
      "metadata": {
        "colab": {
          "base_uri": "https://localhost:8080/"
        },
        "id": "ldAS3Gt-s5m0",
        "outputId": "e71a8e2d-ffbe-4a59-aeee-358b1e1916e3"
      },
      "source": [
        "bikes.append (['kawasaki','Yamaha'])\r\n",
        "print(bikes)\r\n"
      ],
      "execution_count": null,
      "outputs": [
        {
          "output_type": "stream",
          "text": [
            "['Royal Endield', 'Honda', ['kawasaki', 'Yamaha']]\n"
          ],
          "name": "stdout"
        }
      ]
    },
    {
      "cell_type": "code",
      "metadata": {
        "colab": {
          "base_uri": "https://localhost:8080/"
        },
        "id": "d7hXHGvatoEG",
        "outputId": "d5dbd165-8588-493e-af85-7b0c0d9c35e3"
      },
      "source": [
        "print(bikes[2][0])"
      ],
      "execution_count": null,
      "outputs": [
        {
          "output_type": "stream",
          "text": [
            "kawasaki\n"
          ],
          "name": "stdout"
        }
      ]
    },
    {
      "cell_type": "code",
      "metadata": {
        "colab": {
          "base_uri": "https://localhost:8080/"
        },
        "id": "ku9FDF1Xw5g4",
        "outputId": "1fb0d2d1-c064-43de-ed4d-e75d3dcbe684"
      },
      "source": [
        "# making numerical list\r\n",
        "power = []\r\n",
        "for x in range(1,11):\r\n",
        "  power.append(x**2)\r\n",
        "print (power)"
      ],
      "execution_count": null,
      "outputs": [
        {
          "output_type": "stream",
          "text": [
            "[1, 4, 9, 16, 25, 36, 49, 64, 81, 100]\n"
          ],
          "name": "stdout"
        }
      ]
    },
    {
      "cell_type": "code",
      "metadata": {
        "colab": {
          "base_uri": "https://localhost:8080/"
        },
        "id": "NIZqoaCNzeKY",
        "outputId": "52fa932b-9de0-4b8b-e0d2-300c45bb2a8f"
      },
      "source": [
        "power = []\r\n",
        "power =[x**3 for x in range(1,15)]\r\n",
        "print (power)"
      ],
      "execution_count": null,
      "outputs": [
        {
          "output_type": "stream",
          "text": [
            "[1, 8, 27, 64, 125, 216, 343, 512, 729, 1000, 1331, 1728, 2197, 2744]\n"
          ],
          "name": "stdout"
        }
      ]
    },
    {
      "cell_type": "code",
      "metadata": {
        "colab": {
          "base_uri": "https://localhost:8080/"
        },
        "id": "4DZtu1cw1iBn",
        "outputId": "27e32022-dd35-4c7b-9353-49e53ac6c595"
      },
      "source": [
        "# slicing a list \r\n",
        "power [:3]"
      ],
      "execution_count": null,
      "outputs": [
        {
          "output_type": "execute_result",
          "data": {
            "text/plain": [
              "[1, 8, 27]"
            ]
          },
          "metadata": {
            "tags": []
          },
          "execution_count": 44
        }
      ]
    }
  ]
}